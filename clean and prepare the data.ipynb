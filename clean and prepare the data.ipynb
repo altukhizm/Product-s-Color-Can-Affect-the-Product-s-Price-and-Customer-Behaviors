{
 "cells": [
  {
   "cell_type": "code",
   "execution_count": 1,
   "metadata": {},
   "outputs": [],
   "source": [
    "import numpy as np\n",
    "import pandas as pd\n",
    "import altair as alt\n",
    "alt.data_transformers.enable('default', max_rows=None)\n",
    "\n",
    "from mpl_toolkits.mplot3d import Axes3D\n",
    "from sklearn.preprocessing import StandardScaler\n",
    "import seaborn as sns\n",
    "import matplotlib.pyplot as plt\n",
    "\n",
    "from sklearn import preprocessing\n",
    "from sklearn import metrics\n",
    "from sklearn.ensemble import RandomForestClassifier\n",
    "\n",
    "from sklearn.feature_selection import mutual_info_classif, SelectKBest\n",
    "from sklearn.model_selection import train_test_split, StratifiedKFold, GridSearchCV\n",
    "\n",
    "from warnings import filterwarnings\n",
    "filterwarnings('ignore')\n",
    "from scipy import stats"
   ]
  },
  {
   "cell_type": "markdown",
   "metadata": {},
   "source": [
    "## Import the datasets"
   ]
  },
  {
   "cell_type": "code",
   "execution_count": 2,
   "metadata": {},
   "outputs": [],
   "source": [
    "women = pd.read_csv(\"/Volumes/LOVUN/George Mason Files/Fall 2021/AIT 664/Project /data/women.csv\")\n",
    "men = pd.read_csv(\"/Volumes/LOVUN/George Mason Files/Fall 2021/AIT 664/Project /data/men.csv\")\n",
    "kids = pd.read_csv(\"/Volumes/LOVUN/George Mason Files/Fall 2021/AIT 664/Project /data/kids.csv\")\n",
    "bags = pd.read_csv(\"/Volumes/LOVUN/George Mason Files/Fall 2021/AIT 664/Project /data/bags.csv\")\n",
    "shoes= pd.read_csv(\"/Volumes/LOVUN/George Mason Files/Fall 2021/AIT 664/Project /data/shoes.csv\")\n"
   ]
  },
  {
   "cell_type": "markdown",
   "metadata": {},
   "source": [
    "## Concatenate the datasets"
   ]
  },
  {
   "cell_type": "code",
   "execution_count": 3,
   "metadata": {},
   "outputs": [],
   "source": [
    "frames = [women, men, kids,bags,shoes]\n",
    "\n",
    "fdata = pd.concat(frames)\n"
   ]
  },
  {
   "cell_type": "code",
   "execution_count": 4,
   "metadata": {},
   "outputs": [
    {
     "name": "stdout",
     "output_type": "stream",
     "text": [
      "<class 'pandas.core.frame.DataFrame'>\n",
      "Int64Index: 47193 entries, 0 to 11822\n",
      "Data columns (total 22 columns):\n",
      " #   Column                 Non-Null Count  Dtype  \n",
      "---  ------                 --------------  -----  \n",
      " 0   category               47193 non-null  object \n",
      " 1   subcategory            47193 non-null  object \n",
      " 2   name                   47193 non-null  object \n",
      " 3   current_price          47193 non-null  float64\n",
      " 4   raw_price              47193 non-null  float64\n",
      " 5   currency               47193 non-null  object \n",
      " 6   discount               47193 non-null  int64  \n",
      " 7   likes_count            47193 non-null  int64  \n",
      " 8   is_new                 47193 non-null  bool   \n",
      " 9   brand                  9018 non-null   object \n",
      " 10  brand_url              5608 non-null   object \n",
      " 11  codCountry             41389 non-null  object \n",
      " 12  variation_0_color      46752 non-null  object \n",
      " 13  variation_1_color      38535 non-null  object \n",
      " 14  variation_0_thumbnail  46752 non-null  object \n",
      " 15  variation_0_image      46752 non-null  object \n",
      " 16  variation_1_thumbnail  38535 non-null  object \n",
      " 17  variation_1_image      38535 non-null  object \n",
      " 18  image_url              47193 non-null  object \n",
      " 19  url                    47193 non-null  object \n",
      " 20  id                     47193 non-null  int64  \n",
      " 21  model                  47193 non-null  object \n",
      "dtypes: bool(1), float64(2), int64(3), object(16)\n",
      "memory usage: 8.0+ MB\n"
     ]
    }
   ],
   "source": [
    "fdata.info()"
   ]
  },
  {
   "cell_type": "markdown",
   "metadata": {},
   "source": [
    "# Feature Engineering "
   ]
  },
  {
   "cell_type": "markdown",
   "metadata": {},
   "source": [
    "## Drope unrelated columns"
   ]
  },
  {
   "cell_type": "code",
   "execution_count": 5,
   "metadata": {},
   "outputs": [],
   "source": [
    "#1. drop columns from df1\n",
    "fdata=fdata.drop(['currency',\n",
    "                    'brand_url',\n",
    "                    'variation_0_thumbnail',\n",
    "                    'variation_0_image',\n",
    "                    'variation_1_thumbnail',\n",
    "                    'variation_1_image',\n",
    "                    'image_url',\n",
    "                    'url',\n",
    "                    'brand',\n",
    "                    'is_new',\n",
    "                    'codCountry'], axis =1 )"
   ]
  },
  {
   "cell_type": "markdown",
   "metadata": {},
   "source": [
    "## Add two_colors column"
   ]
  },
  {
   "cell_type": "code",
   "execution_count": 6,
   "metadata": {},
   "outputs": [],
   "source": [
    "fdata['two_colors']= np.where((fdata['variation_1_color'].notna()), 1,0)\n",
    "fdata['two_colors'] = fdata['two_colors'].astype('bool')\n"
   ]
  },
  {
   "cell_type": "markdown",
   "metadata": {},
   "source": [
    "### Remove the non-understandable colors"
   ]
  },
  {
   "cell_type": "code",
   "execution_count": 7,
   "metadata": {},
   "outputs": [],
   "source": [
    "fdata['variation_0_color'] = fdata['variation_0_color'].str.replace('\\W+','')\n",
    "fdata['variation_0_color'] = fdata['variation_0_color'].str.replace('\\d+','')\n",
    "fdata['variation_1_color'] = fdata['variation_1_color'].str.replace('\\W+','')\n",
    "fdata['variation_1_color'] = fdata['variation_1_color'].str.replace('\\d+','')"
   ]
  },
  {
   "cell_type": "code",
   "execution_count": 8,
   "metadata": {},
   "outputs": [],
   "source": [
    "fdata = fdata[~fdata['variation_0_color'].isin(['# 01','#01','4' ,'#03', '86', '\\xa0Frontière colorée','# 2','Comme le montre l&#39;image', '#1', '02', '\\xa0# 24', '# 05' , '01', '1', '# 02','\\xa0Point','001', '1#' ,'# 03','07','#7','03','2','# 04' , '# 07', '# 5','11','59','25','08' ,'53', '#06','#05','# 06', 'd&#39;or', '05', '8','#02','6 #','17','09','2 #', '5','23', '# 4', '\\xa0Bordure bleue', 'As shown', '04', '63', '# 08','Figure 1 color','18' ,'\\xa0Croix Beige','14', '#3','Or # 2',\"# 04\"])]\n",
    "fdata = fdata[~fdata['variation_1_color'].isin(['# 01','4' ,'#03', '86', 'Jaune d&#39;armée', '\\xa0Frontière colorée','# 2','Comme le montre l&#39;image', '#1', '02', '\\xa0# 24', '# 05' , '01', '1', '# 02','\\xa0Point','001', '1#' ,'# 03','07','#7','03','2','# 04' , '# 07', '# 5','11','59','25','08' ,'53', '#06','#05','# 06', 'd&#39;or', '05', '8','#02','6 #','17','09','2 #', '5','23', '# 4', '\\xa0Bordure bleue', 'As shown', '04', '63', '# 08','Figure 1 color','18' ,'\\xa0Croix Beige','14', '#3','Or # 2',\"# 04\"])]\n"
   ]
  },
  {
   "cell_type": "markdown",
   "metadata": {},
   "source": [
    "## Handel the color columns"
   ]
  },
  {
   "cell_type": "code",
   "execution_count": 9,
   "metadata": {},
   "outputs": [],
   "source": [
    "fdata.dropna(subset = [\"variation_0_color\"], inplace=True) #remove NA's\n",
    "fdata = fdata[fdata.variation_0_color != \"\"]"
   ]
  },
  {
   "cell_type": "markdown",
   "metadata": {},
   "source": [
    "## Unify colors"
   ]
  },
  {
   "cell_type": "code",
   "execution_count": 10,
   "metadata": {},
   "outputs": [],
   "source": [
    "fdata['variation_0_color'] = fdata['variation_0_color'].replace(['White' , 'Blanccrème','OffWhite',  'white', 'Navetblanc',  'Blackwhite' , 'blanc' ],'White')\n",
    "fdata['variation_0_color'] = fdata['variation_0_color'].replace(['Green','Commelemontrelimage' ,'chameau','Vertdherbe', 'Vert','LightGreen',  'ArmyGreen', 'DarkGreen', 'LakeGreen',   'vert' , 'PeacockGreen' ,  'Vertfoncé' ,  'arméeverte' , 'Mentheverte' ,  'Vertclair' ,   'vertjaune' , 'JauneVert' ,  'Vertfluorescent' ,  'Vertdherbe'   'Vert' ,    'OliveDrab',  'Vertgris',  'Loup',  'Camouflage',  'BrightGreen',  'Vertprofond',  'Vertjaunâtre' ,  'Vertor',  'BleuVert',  'Kakigris',  'CamouflageVert', 'CamouflageNoirVert' , 'Camouflageblanc' ,  'Oretvert' ,  'RougeVert' ,  'CamouflageBlanc' , 'Arbre', 'Jungle',  'Pommeverte' ,  'Vertetorange' , 'Serpentine' ],'Green')\n",
    "fdata['variation_0_color'] = fdata['variation_0_color'].replace([ 'Red' , 'rougebrique','RED','WineRed', 'BrickRed' ,  'RustRed' , 'JujubeRouge',  'Rouge', 'banderouge',  'Rosefoncé', 'Floral' , 'Rougeorange' , 'Vinrouge' , 'Claret' , 'marron',  'Rouillerouge', 'Roserouge',  'Rougeetmarine' ,  'Lettrerouge' ,  'Bordeaux' , 'Pastèquerouge',  'roseblanche', 'Rougefoncé',  'Bourgogne',  'Camouflagerouge' ,  'Rougeclair',  'RougeBlanc',  'rougebrique' 'RED', 'Rougeàvin' , 'Melonrouge' , 'RedBrown' ],'Red')\n",
    "fdata['variation_0_color'] = fdata['variation_0_color'].replace([ 'Black' ,'NoirVert', 'black', 'Noir',  'Noirrouge', 'Fleurnoir',  'NoirBlanc' ,  'Sansfilnoir',  'Blancnoir' , 'CamoNoir', 'Blackstrip' ,  'BK',  'Noiretbleu', 'rougeetnoir',  'RougeNoir' , 'lagrille', 'Noirblancrouge' , 'Feràrepasser',  'Brunfoncé' ,  'NoirRouge' , 'BlackPlushLining',  'Ornoir' ],'Black')\n",
    "fdata['variation_0_color'] = fdata['variation_0_color'].replace(['Blue' ,'Bordurebleue' ,'BleuRouge','Bleuetorange','NoirBleu',  'SkyBlue' , 'Navy', 'Bleu',  'Bleufoncé', 'LightBlue',  'LakeBlue', 'DarkBlue', 'Bleublanc', 'Bleumarin',  'BleuRose', 'Bleuciel', 'Bleuprofond',  'NoirBleu' 'BleuRouge', 'Bleuviolet', 'royalBlue' , 'JauneBleu', 'RoyalBlue' , 'BleuNoir',  'BleuGray' , 'BleuFloral',  'Fleurbleue', 'NavyBlue',  'Marine' , 'Bleuclair' , 'Unjeanbleu' , 'BlancJaune' ,  'Royal' ,  'lacbleu' , 'Cyan' , 'Bleuvert', 'BleuOr', 'OrBleuocéan',  'JeanBlue' ,'Bleukaki',  'Rayurebleue',  'Bleurouge', 'blancbleu' , 'Bleuroyal' , 'Blancbleu' , 'Rayuresbleues', \n",
    "'Bleujaune' , 'Navystripes', 'Largebluebeltgreennet', 'SanBlue',  'Océanbleu', 'Paonbleu', 'blue' ,  'BluePlushLining' , 'Bulelac'],'Blue')\n",
    "fdata['variation_0_color'] = fdata['variation_0_color'].replace([ 'Grey','Couleurdupistolet', 'Gray',  'LightGrey',  'DarkGray',  'Silver', 'DarkGrey' , 'Gris' ,  'gris' , 'Grisfoncé',  'Grisclair', 'argent',  'Rayuregrise', 'Grisargenté' , 'grisBleu',  'Grisnoir' , 'grisnoir' , 'Grisetvert' , 'Blancetgris', 'MarronGris' ,'NoirGrisBlanc',  'GrisBleu', 'bleuGris',  'NoirGris',  'CamouflageGris' ,  'GrisNoir' ,  'GrisRose' ,   'Éléphant',  'Grisdelarmée', 'Noirargent' ,  'GrisViolet'],'Gray')\n",
    "fdata['variation_0_color'] = fdata['variation_0_color'].replace([ 'Yellow' ,'Jaunedarmée','CroixBeige','Jaunecitron', 'Gold' ,  'BlancGris',  'Blanc' , 'Jaune' ,  'Or' , 'Cameo', 'camel', 'Fleurjaune',  'Champagne',  'Jauneclair',  'EarthYellow' ,  'Jaunevif', 'LightYellow',  'Jaunemarron', 'Largerhombicgold' , 'ChampagneOr' , 'YellowBrown' ,  'BrownYellow' ,  'Crème',  'Jaunefoncé'],'Yellow')\n",
    "fdata['variation_0_color'] = fdata['variation_0_color'].replace(['Orange' ,  'OrangeRed' ,'OrangeBleu', 'Nacarat', 'LumièreOrange',  'Orangesombre',  'OrangePink', 'Pêche',  'OrangeMarron' , 'NoirOrange'  ],'Orange')\n",
    "fdata['variation_0_color'] = fdata['variation_0_color'].replace(['Brown','Rougenoir','Coffelégère','Rougenoir', 'Marronprofond', 'café',  'Coffee', 'Nude' ,  'Noirblanc', 'Cafénoir','Nu', 'Khaki' ,'kaki' ,'Nu',  'Apricot' , 'Abricot',  'Beige' ,  'Armée', 'Army' ,  'Rouille' ,  'Camée', 'Gingembre' , 'Sousnu',  'Bronze' ,  'Bandenoire', 'Marronfoncé',  'Taupe' ,  'Darkbrown' , 'Skin',  'Camo',  'Pente' ,  'MarronRouge' , 'Chocolat', 'Kakiclair',  'Couleurdepeau' ,'Brownsuit', 'Arméelégère',  'Orblanc',  'CaféLéger', 'VertRouge' , 'Rayureblanche' , 'Beigeclair' , 'Couleurdesabledeharicot', 'Noirkaki' , 'Marronclair' ,\n",
    "'Rougeetgris' ,   'Caféprofond' , 'Marron',  'Rougemarron' ,  'Ombre' , 'Beigestitching' , 'lattice' ,  'MarronNoir',  'Roseetchocolat',  'Beanpaste' ,  'ACU' , 'bronzer', 'Bronzageléger', 'BeigeRouge', 'RougeBleu'  ,'Noiretblanc'],'Brown')\n",
    "fdata['variation_0_color'] = fdata['variation_0_color'].replace(['Pink',  'LightPink' , 'Magenta' ,  'Rose', 'Roseclair', 'Roseprofond', 'rouge' , 'Crevette' , 'Fleur' , 'Floralvert', 'Fleurrosefoncé',  'fleurblanche' , 'Rosevif', 'Fleurs' ,  'Shell' ,  'Rosepourpre' , 'RoseNoir' , 'Roseetblanc' ,  'Orrose'  ],'Pink')\n",
    "fdata['variation_0_color'] = fdata['variation_0_color'].replace(['MultiColor' , 'Colorful' , 'BlackWhite' ,  'Multicolore',  'MultiCouleur', 'Colourful',  'Print' , 'Imprimé',  'Striped',  'Bande' , 'Multicolor', 'Duvin' ,  'Coloré',  'PhotoColor', 'picturecolor', 'Recoloriée', 'Couleurnu', 'cem' ],'MultiColor')\n",
    "fdata['variation_0_color'] = fdata['variation_0_color'].replace(['Purple',  'Violet' , 'DarkPurple', 'LightPurple',  'Violetclair','VioletGris' ,  'Violetfoncé' ,   'Grisviolet',  'vinrouge' , 'Rougeviolet',  'UNE' , 'Marguerite',  'BlancViolet' ,  'PurpleRed'],'Purple')\n",
    "fdata['variation_0_color'] = fdata['variation_0_color'].replace([ 'AsPicture','Figurecolor','Asshown','Frontièrecolorée','Point', 'dix', 'dor' ,  'Commeimage' , 'Léopard',  'Leopard',  'Plaid', 'Leopardnoir',  'étoileblanche',   'arcenciel', 'Rainbow', 'Graindeléopard',  'Graffiti' ,  'Crossredcolor','LongSleeve','Transparent'],'other')\n",
    "####\n",
    "fdata['variation_1_color'] = fdata['variation_1_color'].replace(['White' ,'BlancVert','Panda','ArgentWhtie', 'Blanccrème','OffWhite',  'white', 'Navetblanc',  'Blackwhite' , 'blanc','BlackandWhite' ],'White')\n",
    "fdata['variation_1_color'] = fdata['variation_1_color'].replace(['Green','Beigeetvert','Noirbrillant','Greenlittle','Blancetvert','Rayureverte','Oliveverte','Vertbleu' ,'VertBlanc','Lemon','DarkArmyGreen','PeaGreen','VertViolet','VertJaune','chameau','Vertdherbe', 'Vert','LightGreen',  'ArmyGreen', 'DarkGreen', 'LakeGreen',   'vert' , 'PeacockGreen' ,  'Vertfoncé' ,  'arméeverte' , 'Mentheverte' ,  'Vertclair' ,   'vertjaune' , 'JauneVert' ,  'Vertfluorescent' ,  'Vertdherbe'   'Vert' ,    'OliveDrab',  'Vertgris',  'Loup',  'Camouflage',  'BrightGreen',  'Vertprofond',  'Vertjaunâtre' ,  'Vertor',  'BleuVert',  'Kakigris',  'CamouflageVert', 'CamouflageNoirVert' , 'Camouflageblanc' ,  'Oretvert' ,  'RougeVert' ,  'CamouflageBlanc' , 'Arbre', 'Jungle',  'Pommeverte' ,  'Vertetorange' , 'Serpentine' ],'Green')\n",
    "fdata['variation_1_color'] = fdata['variation_1_color'].replace(['Red' ,'RD','Àpois','Jaspe','Pointnoir', 'rougebrique','RED','WineRed', 'BrickRed' ,  'RustRed' , 'JujubeRouge',  'Rouge', 'banderouge',  'Rosefoncé', 'Floral' , 'Rougeorange' , 'Vinrouge' , 'Claret' , 'marron',  'Rouillerouge', 'Roserouge',  'Rougeetmarine' ,  'Lettrerouge' ,  'Bordeaux' , 'Pastèquerouge',  'roseblanche', 'Rougefoncé',  'Bourgogne',  'Camouflagerouge' ,  'Rougeclair',  'RougeBlanc',  'rougebrique' 'RED', 'Rougeàvin' , 'Melonrouge' , 'RedBrown' ],'Red')\n",
    "fdata['variation_1_color'] = fdata['variation_1_color'].replace(['Black','Noiretviolet','Noirdoublureenpeluche','NoiravecRouge','Noirmarron','Largerhombicblack','B','NoirOr','Croixnoire' ,'Noirjaune','Sousvêtementnoir','NoirVert', 'black', 'Noir',  'Noirrouge', 'Fleurnoir',  'NoirBlanc' ,  'Sansfilnoir',  'Blancnoir' , 'CamoNoir', 'Blackstrip' ,  'BK',  'Noiretbleu', 'rougeetnoir',  'RougeNoir' , 'lagrille', 'Noirblancrouge' , 'Feràrepasser',  'Brunfoncé' ,  'NoirRouge' , 'BlackPlushLining',  'Ornoir' ],'Black')\n",
    "fdata['variation_1_color'] = fdata['variation_1_color'].replace(['Blue','Verticalbluecolor','Largegreenbeltbluenet','Merbleue','Bleusaphir','CamouflageBleu','BleuBlanc','Bleuverdâtre','Bleugris','OrLacBleu','Noirrayureblanche','rougeBleu','SansfilNu','Bleuacide' ,'BleuRouge','Bleuetorange','NoirBleu',  'SkyBlue' , 'Navy', 'Bleu',  'Bleufoncé', 'LightBlue',  'LakeBlue', 'DarkBlue', 'Bleublanc', 'Bleumarin',  'BleuRose', 'Bleuciel', 'Bleuprofond',  'NoirBleu' 'BleuRouge', 'Bleuviolet', 'royalBlue' , 'JauneBleu', 'RoyalBlue' , 'BleuNoir',  'BleuGray' , 'BleuFloral',  'Fleurbleue', 'NavyBlue',  'Marine' , 'Bleuclair' , 'Unjeanbleu' , 'BlancJaune' ,  'Royal' ,  'lacbleu' , 'Cyan' , 'Bleuvert', 'BleuOr', 'OrBleuocéan',  'JeanBlue' ,'Bleukaki',  'Rayurebleue',  'Bleurouge', 'blancbleu' , 'Bleuroyal' , 'Blancbleu' , 'Rayuresbleues', \n",
    "'Bleujaune' , 'Navystripes', 'Largebluebeltgreennet', 'SanBlue',  'Océanbleu', 'Paonbleu', 'blue' ,  'BluePlushLining' , 'Bulelac'],'Blue')\n",
    "fdata['variation_1_color'] = fdata['variation_1_color'].replace(['Grey','NoirLettresblanches','BeigeGrey','Grisetjaune','GrisBlanc','Grisetorange','Cameratower','Grenaille','Grisvert','Grisetbleu','GrisRouge','Grisetrouge','Couleurdupistolet', 'Gray',  'LightGrey',  'DarkGray',  'Silver', 'DarkGrey' , 'Gris' ,  'gris' , 'Grisfoncé',  'Grisclair', 'argent',  'Rayuregrise', 'Grisargenté' , 'grisBleu',  'Grisnoir' , 'grisnoir' , 'Grisetvert' , 'Blancetgris', 'MarronGris' ,'NoirGrisBlanc',  'GrisBleu', 'bleuGris',  'NoirGris',  'CamouflageGris' ,  'GrisNoir' ,  'GrisRose' ,   'Éléphant',  'Grisdelarmée', 'Noirargent' ,  'GrisViolet'],'Gray')\n",
    "fdata['variation_1_color'] = fdata['variation_1_color'].replace(['Yellow','CroixBeige','Jaunedarmée','NoirJaune','Couleursable','JauneOrange','Terrejaune','citron','lapin','Jauneor','OrArgent' ,'Champagna','Jaunecitron', 'Gold' ,  'BlancGris',  'Blanc' , 'Jaune' ,  'Or' , 'Cameo', 'camel', 'Fleurjaune',  'Champagne',  'Jauneclair',  'EarthYellow' ,  'Jaunevif', 'LightYellow',  'Jaunemarron', 'Largerhombicgold' , 'ChampagneOr' , 'YellowBrown' ,  'BrownYellow' ,  'Crème',  'Jaunefoncé'],'Yellow')\n",
    "fdata['variation_1_color'] = fdata['variation_1_color'].replace(['Orange','Peachpuff','PeachRouge' ,'OrangeRose',  'OrangeRed' ,'OrangeBleu', 'Nacarat', 'LumièreOrange',  'Orangesombre',  'OrangePink', 'Pêche',  'OrangeMarron' , 'NoirOrange'  ],'Orange')\n",
    "fdata['variation_1_color'] = fdata['variation_1_color'].replace(['Brown','BrownSnake','BrownPlushLining','blancrouge','Maroon','Lesable','Rougevert','CP','Caférouge','DarkCoffee','CameoBrown','Coffeecolor','DeepKhaki','Vague','DarkKhaki','LightKhaki','Rougekaki','Cafévert','Couleurdepeausombre','rougenoir','Rougeblanc','Rougenoir','Coffelégère','Rougenoir', 'Marronprofond', 'café',  'Coffee', 'Nude' ,  'Noirblanc', 'Cafénoir','Nu', 'Khaki' ,'kaki' ,'Nu',  'Apricot' , 'Abricot',  'Beige' ,  'Armée', 'Army' ,  'Rouille' ,  'Camée', 'Gingembre' , 'Sousnu',  'Bronze' ,  'Bandenoire', 'Marronfoncé',  'Taupe' ,  'Darkbrown' , 'Skin',  'Camo',  'Pente' ,  'MarronRouge' , 'Chocolat', 'Kakiclair',  'Couleurdepeau' ,'Brownsuit', 'Arméelégère',  'Orblanc',  'CaféLéger', 'VertRouge' , 'Rayureblanche' , 'Beigeclair' , 'Couleurdesabledeharicot', 'Noirkaki' , 'Marronclair' ,\n",
    "'Rougeetgris' ,   'Caféprofond' , 'Marron',  'Rougemarron' ,  'Ombre' , 'Beigestitching' , 'lattice' ,  'MarronNoir',  'Roseetchocolat',  'Beanpaste' ,  'ACU' , 'bronzer', 'Bronzageléger', 'BeigeRouge', 'RougeBleu'  ,'Noiretblanc'],'Brown')\n",
    "fdata['variation_1_color'] = fdata['variation_1_color'].replace(['Pink','rosenoire','Rosebleu','Rosenoire','Fluorescenceverte','Feuille','RoseRougeS','BlancRose','Roseetgris','FluorescentRouge','Fleurrose','Fleurrouge','Floralrouge','NoirRose',  'LightPink' , 'Magenta' ,  'Rose', 'Roseclair', 'Roseprofond', 'rouge' , 'Crevette' , 'Fleur' , 'Floralvert', 'Fleurrosefoncé',  'fleurblanche' , 'Rosevif', 'Fleurs' ,  'Shell' ,  'Rosepourpre' , 'RoseNoir' , 'Roseetblanc' ,  'Orrose'  ],'Pink')\n",
    "fdata['variation_1_color'] = fdata['variation_1_color'].replace(['MultiColor','ZebraBlanc','ZebraBlanc','Lumière','Coralred','Colorébleu','MultiColor' , 'Colorful' , 'BlackWhite' ,  'Multicolore',  'MultiCouleur', 'Colourful',  'Print' , 'Imprimé',  'Striped',  'Bande' , 'Multicolor', 'Duvin' ,  'Coloré',  'PhotoColor', 'picturecolor', 'Recoloriée', 'Couleurnu', 'cem' ],'MultiColor')\n",
    "fdata['variation_1_color'] = fdata['variation_1_color'].replace(['Purple','PurplrBlanc','pourpre','Indigo','Aubergine','Lavande',  'Violet' , 'DarkPurple', 'LightPurple',  'Violetclair','VioletGris' ,  'Violetfoncé' ,   'Grisviolet',  'vinrouge' , 'Rougeviolet',  'UNE' , 'Marguerite',  'BlancViolet' ,  'PurpleRed'],'Purple')\n",
    "fdata['variation_1_color'] = fdata['variation_1_color'].replace([ 'AsPicture','Asshown', 'dix', 'dor','Point','Figurecolor','Frontièrecolorée','Point','dor','Vertcoloré','Transparent','blackstrips','Blackandwhitestitching' ,'Motifléopard','Blackstripes',  'Commeimage' , 'Léopard',  'Leopard',  'Plaid', 'Leopardnoir',  'étoileblanche',   'arcenciel', 'Rainbow', 'Graindeléopard',  'Graffiti' ,  'Crossredcolor','ShortSleeve'],'other')\n",
    "\n",
    "\n"
   ]
  },
  {
   "cell_type": "code",
   "execution_count": 11,
   "metadata": {},
   "outputs": [
    {
     "data": {
      "text/plain": [
       "array(['White', 'Brown', 'Green', 'Red', 'Black', 'Blue', 'Gray',\n",
       "       'Yellow', 'Orange', 'Pink', 'MultiColor', 'Purple', 'other'],\n",
       "      dtype=object)"
      ]
     },
     "execution_count": 11,
     "metadata": {},
     "output_type": "execute_result"
    }
   ],
   "source": [
    "fdata['variation_0_color'].unique()"
   ]
  },
  {
   "cell_type": "code",
   "execution_count": 12,
   "metadata": {},
   "outputs": [
    {
     "data": {
      "text/html": [
       "<div>\n",
       "<style scoped>\n",
       "    .dataframe tbody tr th:only-of-type {\n",
       "        vertical-align: middle;\n",
       "    }\n",
       "\n",
       "    .dataframe tbody tr th {\n",
       "        vertical-align: top;\n",
       "    }\n",
       "\n",
       "    .dataframe thead th {\n",
       "        text-align: right;\n",
       "    }\n",
       "</style>\n",
       "<table border=\"1\" class=\"dataframe\">\n",
       "  <thead>\n",
       "    <tr style=\"text-align: right;\">\n",
       "      <th></th>\n",
       "      <th>category</th>\n",
       "      <th>subcategory</th>\n",
       "      <th>name</th>\n",
       "      <th>current_price</th>\n",
       "      <th>raw_price</th>\n",
       "      <th>discount</th>\n",
       "      <th>likes_count</th>\n",
       "      <th>variation_0_color</th>\n",
       "      <th>variation_1_color</th>\n",
       "      <th>id</th>\n",
       "      <th>model</th>\n",
       "      <th>two_colors</th>\n",
       "    </tr>\n",
       "  </thead>\n",
       "  <tbody>\n",
       "    <tr>\n",
       "      <th>0</th>\n",
       "      <td>women</td>\n",
       "      <td>T-shirts</td>\n",
       "      <td>T-shirt boutonné à manches courtes et imprimé ...</td>\n",
       "      <td>23.99</td>\n",
       "      <td>46.99</td>\n",
       "      <td>49</td>\n",
       "      <td>313</td>\n",
       "      <td>White</td>\n",
       "      <td>Blue</td>\n",
       "      <td>1690810</td>\n",
       "      <td>SKUF40137</td>\n",
       "      <td>True</td>\n",
       "    </tr>\n",
       "    <tr>\n",
       "      <th>1</th>\n",
       "      <td>women</td>\n",
       "      <td>Soutiens-gorge</td>\n",
       "      <td>Plus Soutiens-gorge avec fermeture à l'avant</td>\n",
       "      <td>15.99</td>\n",
       "      <td>40.36</td>\n",
       "      <td>60</td>\n",
       "      <td>4603</td>\n",
       "      <td>White</td>\n",
       "      <td>Gray</td>\n",
       "      <td>1533303</td>\n",
       "      <td>SKUC91583</td>\n",
       "      <td>True</td>\n",
       "    </tr>\n",
       "    <tr>\n",
       "      <th>2</th>\n",
       "      <td>women</td>\n",
       "      <td>Pantalons &amp; Shorts</td>\n",
       "      <td>Pantalon décontracté à taille élastique de cou...</td>\n",
       "      <td>25.99</td>\n",
       "      <td>50.99</td>\n",
       "      <td>49</td>\n",
       "      <td>5564</td>\n",
       "      <td>Brown</td>\n",
       "      <td>Black</td>\n",
       "      <td>1661710</td>\n",
       "      <td>SKUE94621</td>\n",
       "      <td>True</td>\n",
       "    </tr>\n",
       "    <tr>\n",
       "      <th>3</th>\n",
       "      <td>women</td>\n",
       "      <td>Robes imprimées</td>\n",
       "      <td>Robe midi décontractée à imprimé floral</td>\n",
       "      <td>23.99</td>\n",
       "      <td>46.99</td>\n",
       "      <td>49</td>\n",
       "      <td>1262</td>\n",
       "      <td>Brown</td>\n",
       "      <td>White</td>\n",
       "      <td>1691484</td>\n",
       "      <td>SKUF41372</td>\n",
       "      <td>True</td>\n",
       "    </tr>\n",
       "    <tr>\n",
       "      <th>4</th>\n",
       "      <td>women</td>\n",
       "      <td>T-shirts</td>\n",
       "      <td>T-shirt brodé de fleurs</td>\n",
       "      <td>15.99</td>\n",
       "      <td>38.88</td>\n",
       "      <td>59</td>\n",
       "      <td>4485</td>\n",
       "      <td>Green</td>\n",
       "      <td>Blue</td>\n",
       "      <td>1655044</td>\n",
       "      <td>SKUE83526</td>\n",
       "      <td>True</td>\n",
       "    </tr>\n",
       "  </tbody>\n",
       "</table>\n",
       "</div>"
      ],
      "text/plain": [
       "  category         subcategory  \\\n",
       "0    women            T-shirts   \n",
       "1    women      Soutiens-gorge   \n",
       "2    women  Pantalons & Shorts   \n",
       "3    women     Robes imprimées   \n",
       "4    women            T-shirts   \n",
       "\n",
       "                                                name  current_price  \\\n",
       "0  T-shirt boutonné à manches courtes et imprimé ...          23.99   \n",
       "1       Plus Soutiens-gorge avec fermeture à l'avant          15.99   \n",
       "2  Pantalon décontracté à taille élastique de cou...          25.99   \n",
       "3            Robe midi décontractée à imprimé floral          23.99   \n",
       "4                            T-shirt brodé de fleurs          15.99   \n",
       "\n",
       "   raw_price  discount  likes_count variation_0_color variation_1_color  \\\n",
       "0      46.99        49          313             White              Blue   \n",
       "1      40.36        60         4603             White              Gray   \n",
       "2      50.99        49         5564             Brown             Black   \n",
       "3      46.99        49         1262             Brown             White   \n",
       "4      38.88        59         4485             Green              Blue   \n",
       "\n",
       "        id      model  two_colors  \n",
       "0  1690810  SKUF40137        True  \n",
       "1  1533303  SKUC91583        True  \n",
       "2  1661710  SKUE94621        True  \n",
       "3  1691484  SKUF41372        True  \n",
       "4  1655044  SKUE83526        True  "
      ]
     },
     "execution_count": 12,
     "metadata": {},
     "output_type": "execute_result"
    }
   ],
   "source": [
    "fdata.head()"
   ]
  },
  {
   "cell_type": "markdown",
   "metadata": {},
   "source": [
    "# Export the final dataset"
   ]
  },
  {
   "cell_type": "code",
   "execution_count": 22,
   "metadata": {},
   "outputs": [],
   "source": [
    "fdata.to_csv('/Volumes/LOVUN/George Mason Files/Fall 2021/AIT 664/Project /data/fdata.csv', index=False)"
   ]
  },
  {
   "cell_type": "markdown",
   "metadata": {},
   "source": [
    "# To import the final dataset"
   ]
  },
  {
   "cell_type": "code",
   "execution_count": 25,
   "metadata": {},
   "outputs": [],
   "source": [
    "fdata= pd.read_csv(\"/Volumes/LOVUN/George Mason Files/Fall 2021/AIT 664/Project /data/fdata.csv\")\n"
   ]
  },
  {
   "cell_type": "markdown",
   "metadata": {},
   "source": [
    "## labeled categorical data"
   ]
  },
  {
   "cell_type": "code",
   "execution_count": 26,
   "metadata": {},
   "outputs": [],
   "source": [
    "df1=fdata"
   ]
  },
  {
   "cell_type": "code",
   "execution_count": 27,
   "metadata": {},
   "outputs": [
    {
     "data": {
      "text/plain": [
       "array(['Blue', 'Gray', 'Black', 'White', 'Yellow', 'Brown', 'Green',\n",
       "       'Purple', 'Red', 'Pink', 'Orange', nan, 'other'], dtype=object)"
      ]
     },
     "execution_count": 27,
     "metadata": {},
     "output_type": "execute_result"
    }
   ],
   "source": [
    "df1['variation_1_color'].unique()"
   ]
  },
  {
   "cell_type": "code",
   "execution_count": 28,
   "metadata": {},
   "outputs": [],
   "source": [
    "df1['category'] = pd.Categorical(df1['category'])\n",
    "df1['subcategory'] = pd.Categorical(df1['subcategory'])\n",
    "df1['variation_0_color'] = pd.Categorical(df1['variation_0_color'])\n",
    "df1['variation_1_color'] = pd.Categorical(df1['variation_1_color'])"
   ]
  },
  {
   "cell_type": "code",
   "execution_count": 29,
   "metadata": {},
   "outputs": [],
   "source": [
    "def label_encode_fit(data, columns):\n",
    "    result = df1.copy()\n",
    "    cat_col = ['category','subcategory','variation_0_color','variation_1_color','model']\n",
    "    encoders = {}\n",
    "    for column in cat_col:\n",
    "        encoder = preprocessing.LabelEncoder()\n",
    "        result[column] = encoder.fit_transform(result[column])\n",
    "        encoders[column] = encoder\n",
    "    return result, encoders\n",
    "    "
   ]
  },
  {
   "cell_type": "markdown",
   "metadata": {},
   "source": [
    "'White', 'Brown', 'Green', 'Red', 'Black', ..., 'Orange', 'Pink', 'MultiColor', 'Purple', 'other'\n",
    "10,  2,  4,  9,  0,  1,  3, 11,  6,  7,  5,  8, 12"
   ]
  },
  {
   "cell_type": "code",
   "execution_count": 30,
   "metadata": {},
   "outputs": [],
   "source": [
    "data1, encoders1 = label_encode_fit(df1,df1.columns)\n",
    "\n"
   ]
  },
  {
   "cell_type": "code",
   "execution_count": 31,
   "metadata": {},
   "outputs": [
    {
     "data": {
      "text/html": [
       "<div>\n",
       "<style scoped>\n",
       "    .dataframe tbody tr th:only-of-type {\n",
       "        vertical-align: middle;\n",
       "    }\n",
       "\n",
       "    .dataframe tbody tr th {\n",
       "        vertical-align: top;\n",
       "    }\n",
       "\n",
       "    .dataframe thead th {\n",
       "        text-align: right;\n",
       "    }\n",
       "</style>\n",
       "<table border=\"1\" class=\"dataframe\">\n",
       "  <thead>\n",
       "    <tr style=\"text-align: right;\">\n",
       "      <th></th>\n",
       "      <th>category</th>\n",
       "      <th>subcategory</th>\n",
       "      <th>name</th>\n",
       "      <th>current_price</th>\n",
       "      <th>raw_price</th>\n",
       "      <th>discount</th>\n",
       "      <th>likes_count</th>\n",
       "      <th>variation_0_color</th>\n",
       "      <th>variation_1_color</th>\n",
       "      <th>id</th>\n",
       "      <th>model</th>\n",
       "      <th>two_colors</th>\n",
       "    </tr>\n",
       "  </thead>\n",
       "  <tbody>\n",
       "    <tr>\n",
       "      <th>0</th>\n",
       "      <td>4</td>\n",
       "      <td>153</td>\n",
       "      <td>T-shirt boutonné à manches courtes et imprimé ...</td>\n",
       "      <td>23.99</td>\n",
       "      <td>46.99</td>\n",
       "      <td>49</td>\n",
       "      <td>313</td>\n",
       "      <td>9</td>\n",
       "      <td>1</td>\n",
       "      <td>1690810</td>\n",
       "      <td>41258</td>\n",
       "      <td>True</td>\n",
       "    </tr>\n",
       "    <tr>\n",
       "      <th>1</th>\n",
       "      <td>4</td>\n",
       "      <td>140</td>\n",
       "      <td>Plus Soutiens-gorge avec fermeture à l'avant</td>\n",
       "      <td>15.99</td>\n",
       "      <td>40.36</td>\n",
       "      <td>60</td>\n",
       "      <td>4603</td>\n",
       "      <td>9</td>\n",
       "      <td>3</td>\n",
       "      <td>1533303</td>\n",
       "      <td>24919</td>\n",
       "      <td>True</td>\n",
       "    </tr>\n",
       "    <tr>\n",
       "      <th>2</th>\n",
       "      <td>4</td>\n",
       "      <td>89</td>\n",
       "      <td>Pantalon décontracté à taille élastique de cou...</td>\n",
       "      <td>25.99</td>\n",
       "      <td>50.99</td>\n",
       "      <td>49</td>\n",
       "      <td>5564</td>\n",
       "      <td>2</td>\n",
       "      <td>0</td>\n",
       "      <td>1661710</td>\n",
       "      <td>36999</td>\n",
       "      <td>True</td>\n",
       "    </tr>\n",
       "    <tr>\n",
       "      <th>3</th>\n",
       "      <td>4</td>\n",
       "      <td>109</td>\n",
       "      <td>Robe midi décontractée à imprimé floral</td>\n",
       "      <td>23.99</td>\n",
       "      <td>46.99</td>\n",
       "      <td>49</td>\n",
       "      <td>1262</td>\n",
       "      <td>2</td>\n",
       "      <td>9</td>\n",
       "      <td>1691484</td>\n",
       "      <td>41452</td>\n",
       "      <td>True</td>\n",
       "    </tr>\n",
       "    <tr>\n",
       "      <th>4</th>\n",
       "      <td>4</td>\n",
       "      <td>153</td>\n",
       "      <td>T-shirt brodé de fleurs</td>\n",
       "      <td>15.99</td>\n",
       "      <td>38.88</td>\n",
       "      <td>59</td>\n",
       "      <td>4485</td>\n",
       "      <td>4</td>\n",
       "      <td>1</td>\n",
       "      <td>1655044</td>\n",
       "      <td>36141</td>\n",
       "      <td>True</td>\n",
       "    </tr>\n",
       "  </tbody>\n",
       "</table>\n",
       "</div>"
      ],
      "text/plain": [
       "   category  subcategory                                               name  \\\n",
       "0         4          153  T-shirt boutonné à manches courtes et imprimé ...   \n",
       "1         4          140       Plus Soutiens-gorge avec fermeture à l'avant   \n",
       "2         4           89  Pantalon décontracté à taille élastique de cou...   \n",
       "3         4          109            Robe midi décontractée à imprimé floral   \n",
       "4         4          153                            T-shirt brodé de fleurs   \n",
       "\n",
       "   current_price  raw_price  discount  likes_count  variation_0_color  \\\n",
       "0          23.99      46.99        49          313                  9   \n",
       "1          15.99      40.36        60         4603                  9   \n",
       "2          25.99      50.99        49         5564                  2   \n",
       "3          23.99      46.99        49         1262                  2   \n",
       "4          15.99      38.88        59         4485                  4   \n",
       "\n",
       "   variation_1_color       id  model  two_colors  \n",
       "0                  1  1690810  41258        True  \n",
       "1                  3  1533303  24919        True  \n",
       "2                  0  1661710  36999        True  \n",
       "3                  9  1691484  41452        True  \n",
       "4                  1  1655044  36141        True  "
      ]
     },
     "execution_count": 31,
     "metadata": {},
     "output_type": "execute_result"
    }
   ],
   "source": [
    "data1.head()"
   ]
  },
  {
   "cell_type": "code",
   "execution_count": 32,
   "metadata": {},
   "outputs": [],
   "source": [
    "\n",
    "data1['variation_1_color'] =data1['variation_1_color'].map({0: 12, 1:0,2:1,3:2,4:3,5:4,6:5,7:6,8:7,9:8,10:9,11:10,12:11 })\n"
   ]
  },
  {
   "cell_type": "code",
   "execution_count": 33,
   "metadata": {},
   "outputs": [
    {
     "name": "stdout",
     "output_type": "stream",
     "text": [
      "<class 'pandas.core.frame.DataFrame'>\n",
      "RangeIndex: 45425 entries, 0 to 45424\n",
      "Data columns (total 12 columns):\n",
      " #   Column             Non-Null Count  Dtype  \n",
      "---  ------             --------------  -----  \n",
      " 0   category           45425 non-null  int64  \n",
      " 1   subcategory        45425 non-null  int64  \n",
      " 2   name               45425 non-null  object \n",
      " 3   current_price      45425 non-null  float64\n",
      " 4   raw_price          45425 non-null  float64\n",
      " 5   discount           45425 non-null  int64  \n",
      " 6   likes_count        45425 non-null  int64  \n",
      " 7   variation_0_color  45425 non-null  int64  \n",
      " 8   variation_1_color  45425 non-null  int64  \n",
      " 9   id                 45425 non-null  int64  \n",
      " 10  model              45425 non-null  int64  \n",
      " 11  two_colors         45425 non-null  bool   \n",
      "dtypes: bool(1), float64(2), int64(8), object(1)\n",
      "memory usage: 3.9+ MB\n"
     ]
    }
   ],
   "source": [
    "data1.info()"
   ]
  },
  {
   "cell_type": "markdown",
   "metadata": {},
   "source": [
    "# Export labeled data"
   ]
  },
  {
   "cell_type": "code",
   "execution_count": 31,
   "metadata": {},
   "outputs": [],
   "source": [
    "data1.to_csv('/Volumes/LOVUN/George Mason Files/Fall 2021/AIT 664/Project /data/data1.csv', index=False)"
   ]
  },
  {
   "cell_type": "markdown",
   "metadata": {},
   "source": [
    "# Import lableled data"
   ]
  },
  {
   "cell_type": "code",
   "execution_count": 34,
   "metadata": {},
   "outputs": [],
   "source": [
    "data1= pd.read_csv(\"/Volumes/LOVUN/George Mason Files/Fall 2021/AIT 664/Project /data/data1.csv\")\n"
   ]
  },
  {
   "cell_type": "markdown",
   "metadata": {},
   "source": [
    "# Data distribution"
   ]
  },
  {
   "cell_type": "code",
   "execution_count": 21,
   "metadata": {},
   "outputs": [
    {
     "data": {
      "text/html": [
       "<div>\n",
       "<style scoped>\n",
       "    .dataframe tbody tr th:only-of-type {\n",
       "        vertical-align: middle;\n",
       "    }\n",
       "\n",
       "    .dataframe tbody tr th {\n",
       "        vertical-align: top;\n",
       "    }\n",
       "\n",
       "    .dataframe thead th {\n",
       "        text-align: right;\n",
       "    }\n",
       "</style>\n",
       "<table border=\"1\" class=\"dataframe\">\n",
       "  <thead>\n",
       "    <tr style=\"text-align: right;\">\n",
       "      <th></th>\n",
       "      <th>current_price</th>\n",
       "      <th>raw_price</th>\n",
       "      <th>discount</th>\n",
       "      <th>likes_count</th>\n",
       "      <th>id</th>\n",
       "    </tr>\n",
       "  </thead>\n",
       "  <tbody>\n",
       "    <tr>\n",
       "      <th>count</th>\n",
       "      <td>45425.000000</td>\n",
       "      <td>45425.000000</td>\n",
       "      <td>45425.000000</td>\n",
       "      <td>45425.000000</td>\n",
       "      <td>4.542500e+04</td>\n",
       "    </tr>\n",
       "    <tr>\n",
       "      <th>mean</th>\n",
       "      <td>28.738523</td>\n",
       "      <td>60.719223</td>\n",
       "      <td>52.222609</td>\n",
       "      <td>224.296599</td>\n",
       "      <td>1.465872e+06</td>\n",
       "    </tr>\n",
       "    <tr>\n",
       "      <th>std</th>\n",
       "      <td>16.025378</td>\n",
       "      <td>39.936230</td>\n",
       "      <td>10.408630</td>\n",
       "      <td>631.966251</td>\n",
       "      <td>2.045275e+05</td>\n",
       "    </tr>\n",
       "    <tr>\n",
       "      <th>min</th>\n",
       "      <td>0.140000</td>\n",
       "      <td>0.000000</td>\n",
       "      <td>0.000000</td>\n",
       "      <td>0.000000</td>\n",
       "      <td>2.792800e+04</td>\n",
       "    </tr>\n",
       "    <tr>\n",
       "      <th>25%</th>\n",
       "      <td>18.040000</td>\n",
       "      <td>39.270000</td>\n",
       "      <td>47.000000</td>\n",
       "      <td>29.000000</td>\n",
       "      <td>1.311385e+06</td>\n",
       "    </tr>\n",
       "    <tr>\n",
       "      <th>50%</th>\n",
       "      <td>24.990000</td>\n",
       "      <td>53.040000</td>\n",
       "      <td>52.000000</td>\n",
       "      <td>75.000000</td>\n",
       "      <td>1.506630e+06</td>\n",
       "    </tr>\n",
       "    <tr>\n",
       "      <th>75%</th>\n",
       "      <td>35.690000</td>\n",
       "      <td>73.990000</td>\n",
       "      <td>59.000000</td>\n",
       "      <td>189.000000</td>\n",
       "      <td>1.657185e+06</td>\n",
       "    </tr>\n",
       "    <tr>\n",
       "      <th>max</th>\n",
       "      <td>314.590000</td>\n",
       "      <td>5089.000000</td>\n",
       "      <td>100.000000</td>\n",
       "      <td>21547.000000</td>\n",
       "      <td>1.724666e+06</td>\n",
       "    </tr>\n",
       "  </tbody>\n",
       "</table>\n",
       "</div>"
      ],
      "text/plain": [
       "       current_price     raw_price      discount   likes_count            id\n",
       "count   45425.000000  45425.000000  45425.000000  45425.000000  4.542500e+04\n",
       "mean       28.738523     60.719223     52.222609    224.296599  1.465872e+06\n",
       "std        16.025378     39.936230     10.408630    631.966251  2.045275e+05\n",
       "min         0.140000      0.000000      0.000000      0.000000  2.792800e+04\n",
       "25%        18.040000     39.270000     47.000000     29.000000  1.311385e+06\n",
       "50%        24.990000     53.040000     52.000000     75.000000  1.506630e+06\n",
       "75%        35.690000     73.990000     59.000000    189.000000  1.657185e+06\n",
       "max       314.590000   5089.000000    100.000000  21547.000000  1.724666e+06"
      ]
     },
     "execution_count": 21,
     "metadata": {},
     "output_type": "execute_result"
    }
   ],
   "source": [
    "fdata.describe()"
   ]
  },
  {
   "cell_type": "markdown",
   "metadata": {},
   "source": [
    "## Visualization"
   ]
  },
  {
   "cell_type": "markdown",
   "metadata": {},
   "source": [
    "Number of items per color"
   ]
  },
  {
   "cell_type": "code",
   "execution_count": null,
   "metadata": {},
   "outputs": [],
   "source": [
    "alt.data_transformers.enable('default', max_rows=None)\n",
    "alt.Chart(fdata).mark_bar(\n",
    "    cornerRadiusTopLeft=3,\n",
    "    cornerRadiusTopRight=3\n",
    ").encode(\n",
    "    x='variation_0_color:N',\n",
    "    y='count(variation_0_color):Q',\n",
    "   \n",
    "        )"
   ]
  },
  {
   "cell_type": "code",
   "execution_count": null,
   "metadata": {},
   "outputs": [],
   "source": [
    "alt.data_transformers.enable('default', max_rows=None)\n",
    "alt.Chart(fdata).mark_bar().encode(\n",
    "    x='category:N',\n",
    "    y='count(category):Q'\n",
    ").properties(width =200)"
   ]
  },
  {
   "cell_type": "code",
   "execution_count": null,
   "metadata": {},
   "outputs": [],
   "source": [
    "alt.data_transformers.enable('default', max_rows=None)\n",
    "alt.Chart(fdata).mark_bar().encode(\n",
    "    x='variation_0_color:N',\n",
    "    y='current_price:Q'\n",
    ").properties(width =400)"
   ]
  },
  {
   "cell_type": "code",
   "execution_count": null,
   "metadata": {},
   "outputs": [],
   "source": [
    "alt.data_transformers.enable('default', max_rows=None)\n",
    "alt.Chart(fdata).mark_bar().encode(\n",
    "    x='category:N',\n",
    "    y='likes_count:Q'\n",
    ").properties(width =300)"
   ]
  },
  {
   "cell_type": "markdown",
   "metadata": {},
   "source": [
    "# The final Dataset"
   ]
  },
  {
   "cell_type": "code",
   "execution_count": 35,
   "metadata": {},
   "outputs": [
    {
     "data": {
      "text/plain": [
       "12"
      ]
     },
     "execution_count": 35,
     "metadata": {},
     "output_type": "execute_result"
    }
   ],
   "source": [
    "len (data1['variation_0_color'].unique())\n"
   ]
  },
  {
   "cell_type": "code",
   "execution_count": 7,
   "metadata": {},
   "outputs": [
    {
     "data": {
      "text/html": [
       "<div>\n",
       "<style scoped>\n",
       "    .dataframe tbody tr th:only-of-type {\n",
       "        vertical-align: middle;\n",
       "    }\n",
       "\n",
       "    .dataframe tbody tr th {\n",
       "        vertical-align: top;\n",
       "    }\n",
       "\n",
       "    .dataframe thead th {\n",
       "        text-align: right;\n",
       "    }\n",
       "</style>\n",
       "<table border=\"1\" class=\"dataframe\">\n",
       "  <thead>\n",
       "    <tr style=\"text-align: right;\">\n",
       "      <th></th>\n",
       "      <th>Unnamed: 0</th>\n",
       "      <th>category</th>\n",
       "      <th>subcategory</th>\n",
       "      <th>current_price</th>\n",
       "      <th>raw_price</th>\n",
       "      <th>discount</th>\n",
       "      <th>likes_count</th>\n",
       "      <th>variation_0_color</th>\n",
       "      <th>variation_1_color</th>\n",
       "    </tr>\n",
       "  </thead>\n",
       "  <tbody>\n",
       "    <tr>\n",
       "      <th>count</th>\n",
       "      <td>45425.000000</td>\n",
       "      <td>45425.000000</td>\n",
       "      <td>45425.000000</td>\n",
       "      <td>45425.000000</td>\n",
       "      <td>45425.000000</td>\n",
       "      <td>45425.000000</td>\n",
       "      <td>45425.000000</td>\n",
       "      <td>45425.000000</td>\n",
       "      <td>45425.000000</td>\n",
       "    </tr>\n",
       "    <tr>\n",
       "      <th>mean</th>\n",
       "      <td>22712.000000</td>\n",
       "      <td>2.561431</td>\n",
       "      <td>87.277248</td>\n",
       "      <td>28.738523</td>\n",
       "      <td>60.719223</td>\n",
       "      <td>52.222609</td>\n",
       "      <td>224.296599</td>\n",
       "      <td>4.155817</td>\n",
       "      <td>5.561695</td>\n",
       "    </tr>\n",
       "    <tr>\n",
       "      <th>std</th>\n",
       "      <td>13113.212326</td>\n",
       "      <td>1.346878</td>\n",
       "      <td>48.888451</td>\n",
       "      <td>16.025378</td>\n",
       "      <td>39.936230</td>\n",
       "      <td>10.408630</td>\n",
       "      <td>631.966251</td>\n",
       "      <td>3.736403</td>\n",
       "      <td>4.792106</td>\n",
       "    </tr>\n",
       "    <tr>\n",
       "      <th>min</th>\n",
       "      <td>0.000000</td>\n",
       "      <td>0.000000</td>\n",
       "      <td>0.000000</td>\n",
       "      <td>0.140000</td>\n",
       "      <td>0.000000</td>\n",
       "      <td>0.000000</td>\n",
       "      <td>0.000000</td>\n",
       "      <td>0.000000</td>\n",
       "      <td>0.000000</td>\n",
       "    </tr>\n",
       "    <tr>\n",
       "      <th>25%</th>\n",
       "      <td>11356.000000</td>\n",
       "      <td>2.000000</td>\n",
       "      <td>42.000000</td>\n",
       "      <td>18.040000</td>\n",
       "      <td>39.270000</td>\n",
       "      <td>47.000000</td>\n",
       "      <td>29.000000</td>\n",
       "      <td>0.000000</td>\n",
       "      <td>1.000000</td>\n",
       "    </tr>\n",
       "    <tr>\n",
       "      <th>50%</th>\n",
       "      <td>22712.000000</td>\n",
       "      <td>3.000000</td>\n",
       "      <td>99.000000</td>\n",
       "      <td>24.990000</td>\n",
       "      <td>53.040000</td>\n",
       "      <td>52.000000</td>\n",
       "      <td>75.000000</td>\n",
       "      <td>3.000000</td>\n",
       "      <td>4.000000</td>\n",
       "    </tr>\n",
       "    <tr>\n",
       "      <th>75%</th>\n",
       "      <td>34068.000000</td>\n",
       "      <td>4.000000</td>\n",
       "      <td>128.000000</td>\n",
       "      <td>35.690000</td>\n",
       "      <td>73.990000</td>\n",
       "      <td>59.000000</td>\n",
       "      <td>189.000000</td>\n",
       "      <td>8.000000</td>\n",
       "      <td>10.000000</td>\n",
       "    </tr>\n",
       "    <tr>\n",
       "      <th>max</th>\n",
       "      <td>45424.000000</td>\n",
       "      <td>4.000000</td>\n",
       "      <td>176.000000</td>\n",
       "      <td>314.590000</td>\n",
       "      <td>5089.000000</td>\n",
       "      <td>100.000000</td>\n",
       "      <td>21547.000000</td>\n",
       "      <td>11.000000</td>\n",
       "      <td>13.000000</td>\n",
       "    </tr>\n",
       "  </tbody>\n",
       "</table>\n",
       "</div>"
      ],
      "text/plain": [
       "         Unnamed: 0      category   subcategory  current_price     raw_price  \\\n",
       "count  45425.000000  45425.000000  45425.000000   45425.000000  45425.000000   \n",
       "mean   22712.000000      2.561431     87.277248      28.738523     60.719223   \n",
       "std    13113.212326      1.346878     48.888451      16.025378     39.936230   \n",
       "min        0.000000      0.000000      0.000000       0.140000      0.000000   \n",
       "25%    11356.000000      2.000000     42.000000      18.040000     39.270000   \n",
       "50%    22712.000000      3.000000     99.000000      24.990000     53.040000   \n",
       "75%    34068.000000      4.000000    128.000000      35.690000     73.990000   \n",
       "max    45424.000000      4.000000    176.000000     314.590000   5089.000000   \n",
       "\n",
       "           discount   likes_count  variation_0_color  variation_1_color  \n",
       "count  45425.000000  45425.000000       45425.000000       45425.000000  \n",
       "mean      52.222609    224.296599           4.155817           5.561695  \n",
       "std       10.408630    631.966251           3.736403           4.792106  \n",
       "min        0.000000      0.000000           0.000000           0.000000  \n",
       "25%       47.000000     29.000000           0.000000           1.000000  \n",
       "50%       52.000000     75.000000           3.000000           4.000000  \n",
       "75%       59.000000    189.000000           8.000000          10.000000  \n",
       "max      100.000000  21547.000000          11.000000          13.000000  "
      ]
     },
     "execution_count": 7,
     "metadata": {},
     "output_type": "execute_result"
    }
   ],
   "source": [
    "data1.describe()"
   ]
  },
  {
   "cell_type": "code",
   "execution_count": 8,
   "metadata": {},
   "outputs": [
    {
     "name": "stdout",
     "output_type": "stream",
     "text": [
      "<class 'pandas.core.frame.DataFrame'>\n",
      "RangeIndex: 45425 entries, 0 to 45424\n",
      "Data columns (total 10 columns):\n",
      " #   Column             Non-Null Count  Dtype  \n",
      "---  ------             --------------  -----  \n",
      " 0   Unnamed: 0         45425 non-null  int64  \n",
      " 1   category           45425 non-null  int64  \n",
      " 2   subcategory        45425 non-null  int64  \n",
      " 3   current_price      45425 non-null  float64\n",
      " 4   raw_price          45425 non-null  float64\n",
      " 5   discount           45425 non-null  int64  \n",
      " 6   likes_count        45425 non-null  int64  \n",
      " 7   variation_0_color  45425 non-null  int64  \n",
      " 8   variation_1_color  45425 non-null  int64  \n",
      " 9   two_colors         45425 non-null  bool   \n",
      "dtypes: bool(1), float64(2), int64(7)\n",
      "memory usage: 3.2 MB\n"
     ]
    }
   ],
   "source": [
    "data1.info()\n"
   ]
  },
  {
   "cell_type": "markdown",
   "metadata": {},
   "source": [
    "## Test the data normal distribution"
   ]
  },
  {
   "cell_type": "markdown",
   "metadata": {},
   "source": [
    "### to test the data we will take the mean of values\n",
    "the values will group by based on subcategory column"
   ]
  },
  {
   "cell_type": "markdown",
   "metadata": {},
   "source": [
    "The first test = main colors with current price "
   ]
  },
  {
   "cell_type": "code",
   "execution_count": 36,
   "metadata": {},
   "outputs": [
    {
     "name": "stdout",
     "output_type": "stream",
     "text": [
      "('Black', 31.831592486037604)\n",
      "('Blue', 28.02874250408874)\n",
      "('Brown', 33.444498806682915)\n",
      "('Gray', 29.807514450866968)\n",
      "('Green', 26.985924308588114)\n",
      "('Orange', 26.63955375253543)\n",
      "('Pink', 25.536003394145265)\n",
      "('Purple', 25.203478260869655)\n",
      "('Red', 31.120098826436312)\n",
      "('White', 24.08693936017869)\n",
      "('Yellow', 28.271422138836858)\n",
      "('other', 24.824582463465678)\n"
     ]
    }
   ],
   "source": [
    "groupby_color1 = fdata.groupby('variation_0_color')\n",
    "for category, value in groupby_color1['current_price']:\n",
    "    print((category, value.mean()))"
   ]
  },
  {
   "cell_type": "code",
   "execution_count": 37,
   "metadata": {},
   "outputs": [
    {
     "data": {
      "text/html": [
       "<div>\n",
       "<style scoped>\n",
       "    .dataframe tbody tr th:only-of-type {\n",
       "        vertical-align: middle;\n",
       "    }\n",
       "\n",
       "    .dataframe tbody tr th {\n",
       "        vertical-align: top;\n",
       "    }\n",
       "\n",
       "    .dataframe thead th {\n",
       "        text-align: right;\n",
       "    }\n",
       "</style>\n",
       "<table border=\"1\" class=\"dataframe\">\n",
       "  <thead>\n",
       "    <tr style=\"text-align: right;\">\n",
       "      <th></th>\n",
       "      <th>variation_0_color</th>\n",
       "      <th>Unnamed: 0</th>\n",
       "      <th>Unnamed: 0.1</th>\n",
       "      <th>category</th>\n",
       "      <th>subcategory</th>\n",
       "      <th>current_price</th>\n",
       "      <th>raw_price</th>\n",
       "      <th>discount</th>\n",
       "      <th>likes_count</th>\n",
       "      <th>variation_1_color</th>\n",
       "      <th>two_colors</th>\n",
       "    </tr>\n",
       "  </thead>\n",
       "  <tbody>\n",
       "    <tr>\n",
       "      <th>0</th>\n",
       "      <td>0</td>\n",
       "      <td>25900.036639</td>\n",
       "      <td>25900.036639</td>\n",
       "      <td>2.622610</td>\n",
       "      <td>84.481977</td>\n",
       "      <td>31.831592</td>\n",
       "      <td>66.740596</td>\n",
       "      <td>51.818751</td>\n",
       "      <td>193.039178</td>\n",
       "      <td>6.008800</td>\n",
       "      <td>0.870198</td>\n",
       "    </tr>\n",
       "    <tr>\n",
       "      <th>1</th>\n",
       "      <td>1</td>\n",
       "      <td>20606.357260</td>\n",
       "      <td>20606.357260</td>\n",
       "      <td>2.636198</td>\n",
       "      <td>86.840087</td>\n",
       "      <td>28.028743</td>\n",
       "      <td>59.786916</td>\n",
       "      <td>52.419226</td>\n",
       "      <td>253.534799</td>\n",
       "      <td>6.390333</td>\n",
       "      <td>0.727603</td>\n",
       "    </tr>\n",
       "    <tr>\n",
       "      <th>2</th>\n",
       "      <td>2</td>\n",
       "      <td>22977.220167</td>\n",
       "      <td>22977.220167</td>\n",
       "      <td>2.433174</td>\n",
       "      <td>91.964499</td>\n",
       "      <td>33.444499</td>\n",
       "      <td>70.784138</td>\n",
       "      <td>52.787888</td>\n",
       "      <td>222.444212</td>\n",
       "      <td>4.907816</td>\n",
       "      <td>0.843675</td>\n",
       "    </tr>\n",
       "    <tr>\n",
       "      <th>3</th>\n",
       "      <td>3</td>\n",
       "      <td>20744.662042</td>\n",
       "      <td>20744.662042</td>\n",
       "      <td>2.578035</td>\n",
       "      <td>87.290173</td>\n",
       "      <td>29.807514</td>\n",
       "      <td>61.960304</td>\n",
       "      <td>51.590751</td>\n",
       "      <td>221.099807</td>\n",
       "      <td>4.783815</td>\n",
       "      <td>0.847013</td>\n",
       "    </tr>\n",
       "    <tr>\n",
       "      <th>4</th>\n",
       "      <td>4</td>\n",
       "      <td>19329.666303</td>\n",
       "      <td>19329.666303</td>\n",
       "      <td>2.781659</td>\n",
       "      <td>89.925036</td>\n",
       "      <td>26.985924</td>\n",
       "      <td>57.467169</td>\n",
       "      <td>52.264920</td>\n",
       "      <td>259.100073</td>\n",
       "      <td>5.511645</td>\n",
       "      <td>0.820597</td>\n",
       "    </tr>\n",
       "    <tr>\n",
       "      <th>5</th>\n",
       "      <td>5</td>\n",
       "      <td>19533.981744</td>\n",
       "      <td>19533.981744</td>\n",
       "      <td>2.784990</td>\n",
       "      <td>90.880325</td>\n",
       "      <td>26.639554</td>\n",
       "      <td>57.556572</td>\n",
       "      <td>52.608519</td>\n",
       "      <td>284.632860</td>\n",
       "      <td>6.296146</td>\n",
       "      <td>0.742394</td>\n",
       "    </tr>\n",
       "    <tr>\n",
       "      <th>6</th>\n",
       "      <td>6</td>\n",
       "      <td>22189.978362</td>\n",
       "      <td>22189.978362</td>\n",
       "      <td>2.396266</td>\n",
       "      <td>86.883114</td>\n",
       "      <td>25.536003</td>\n",
       "      <td>55.948594</td>\n",
       "      <td>54.289563</td>\n",
       "      <td>272.483029</td>\n",
       "      <td>4.766228</td>\n",
       "      <td>0.869325</td>\n",
       "    </tr>\n",
       "    <tr>\n",
       "      <th>7</th>\n",
       "      <td>7</td>\n",
       "      <td>21790.843100</td>\n",
       "      <td>21790.843100</td>\n",
       "      <td>2.344991</td>\n",
       "      <td>90.876181</td>\n",
       "      <td>25.203478</td>\n",
       "      <td>56.185019</td>\n",
       "      <td>54.535917</td>\n",
       "      <td>188.417769</td>\n",
       "      <td>4.453686</td>\n",
       "      <td>0.867675</td>\n",
       "    </tr>\n",
       "    <tr>\n",
       "      <th>8</th>\n",
       "      <td>8</td>\n",
       "      <td>25251.518530</td>\n",
       "      <td>25251.518530</td>\n",
       "      <td>2.269302</td>\n",
       "      <td>86.832613</td>\n",
       "      <td>31.120099</td>\n",
       "      <td>66.564537</td>\n",
       "      <td>52.521618</td>\n",
       "      <td>231.139284</td>\n",
       "      <td>4.413836</td>\n",
       "      <td>0.849907</td>\n",
       "    </tr>\n",
       "    <tr>\n",
       "      <th>9</th>\n",
       "      <td>9</td>\n",
       "      <td>20630.982652</td>\n",
       "      <td>20630.982652</td>\n",
       "      <td>2.601305</td>\n",
       "      <td>88.784657</td>\n",
       "      <td>24.086939</td>\n",
       "      <td>49.607404</td>\n",
       "      <td>51.215502</td>\n",
       "      <td>201.796594</td>\n",
       "      <td>5.081012</td>\n",
       "      <td>0.849594</td>\n",
       "    </tr>\n",
       "    <tr>\n",
       "      <th>10</th>\n",
       "      <td>10</td>\n",
       "      <td>23619.975235</td>\n",
       "      <td>23619.975235</td>\n",
       "      <td>2.596998</td>\n",
       "      <td>84.526829</td>\n",
       "      <td>28.271422</td>\n",
       "      <td>59.944908</td>\n",
       "      <td>52.350844</td>\n",
       "      <td>255.926454</td>\n",
       "      <td>5.417261</td>\n",
       "      <td>0.857411</td>\n",
       "    </tr>\n",
       "    <tr>\n",
       "      <th>11</th>\n",
       "      <td>11</td>\n",
       "      <td>17342.987474</td>\n",
       "      <td>17342.987474</td>\n",
       "      <td>2.712944</td>\n",
       "      <td>95.618998</td>\n",
       "      <td>24.824582</td>\n",
       "      <td>47.927401</td>\n",
       "      <td>48.001044</td>\n",
       "      <td>165.160752</td>\n",
       "      <td>12.018789</td>\n",
       "      <td>0.112735</td>\n",
       "    </tr>\n",
       "  </tbody>\n",
       "</table>\n",
       "</div>"
      ],
      "text/plain": [
       "    variation_0_color    Unnamed: 0  Unnamed: 0.1  category  subcategory  \\\n",
       "0                   0  25900.036639  25900.036639  2.622610    84.481977   \n",
       "1                   1  20606.357260  20606.357260  2.636198    86.840087   \n",
       "2                   2  22977.220167  22977.220167  2.433174    91.964499   \n",
       "3                   3  20744.662042  20744.662042  2.578035    87.290173   \n",
       "4                   4  19329.666303  19329.666303  2.781659    89.925036   \n",
       "5                   5  19533.981744  19533.981744  2.784990    90.880325   \n",
       "6                   6  22189.978362  22189.978362  2.396266    86.883114   \n",
       "7                   7  21790.843100  21790.843100  2.344991    90.876181   \n",
       "8                   8  25251.518530  25251.518530  2.269302    86.832613   \n",
       "9                   9  20630.982652  20630.982652  2.601305    88.784657   \n",
       "10                 10  23619.975235  23619.975235  2.596998    84.526829   \n",
       "11                 11  17342.987474  17342.987474  2.712944    95.618998   \n",
       "\n",
       "    current_price  raw_price   discount  likes_count  variation_1_color  \\\n",
       "0       31.831592  66.740596  51.818751   193.039178           6.008800   \n",
       "1       28.028743  59.786916  52.419226   253.534799           6.390333   \n",
       "2       33.444499  70.784138  52.787888   222.444212           4.907816   \n",
       "3       29.807514  61.960304  51.590751   221.099807           4.783815   \n",
       "4       26.985924  57.467169  52.264920   259.100073           5.511645   \n",
       "5       26.639554  57.556572  52.608519   284.632860           6.296146   \n",
       "6       25.536003  55.948594  54.289563   272.483029           4.766228   \n",
       "7       25.203478  56.185019  54.535917   188.417769           4.453686   \n",
       "8       31.120099  66.564537  52.521618   231.139284           4.413836   \n",
       "9       24.086939  49.607404  51.215502   201.796594           5.081012   \n",
       "10      28.271422  59.944908  52.350844   255.926454           5.417261   \n",
       "11      24.824582  47.927401  48.001044   165.160752          12.018789   \n",
       "\n",
       "    two_colors  \n",
       "0     0.870198  \n",
       "1     0.727603  \n",
       "2     0.843675  \n",
       "3     0.847013  \n",
       "4     0.820597  \n",
       "5     0.742394  \n",
       "6     0.869325  \n",
       "7     0.867675  \n",
       "8     0.849907  \n",
       "9     0.849594  \n",
       "10    0.857411  \n",
       "11    0.112735  "
      ]
     },
     "execution_count": 37,
     "metadata": {},
     "output_type": "execute_result"
    }
   ],
   "source": [
    "\n",
    "mean_col_lable1 =data1.groupby(['variation_0_color'], as_index=False).mean()\n",
    "mean_col_lable1"
   ]
  },
  {
   "cell_type": "code",
   "execution_count": null,
   "metadata": {},
   "outputs": [],
   "source": []
  }
 ],
 "metadata": {
  "interpreter": {
   "hash": "54ecca5b44985fcf55712ffd4a7d12117f4cbfae94c575e266a5d94df5864634"
  },
  "kernelspec": {
   "display_name": "Python 3.8.8 64-bit ('base': conda)",
   "name": "python3"
  },
  "language_info": {
   "codemirror_mode": {
    "name": "ipython",
    "version": 3
   },
   "file_extension": ".py",
   "mimetype": "text/x-python",
   "name": "python",
   "nbconvert_exporter": "python",
   "pygments_lexer": "ipython3",
   "version": "3.8.8"
  },
  "orig_nbformat": 4
 },
 "nbformat": 4,
 "nbformat_minor": 2
}
